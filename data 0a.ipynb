{
 "cells": [
  {
   "cell_type": "markdown",
   "metadata": {},
   "source": [
    "### Downloading the Required Packgases for the Project"
   ]
  },
  {
   "cell_type": "code",
   "execution_count": 139,
   "metadata": {},
   "outputs": [
    {
     "name": "stdout",
     "output_type": "stream",
     "text": [
      "Requirement already satisfied: xgboost in /Users/adityakakarla/opt/anaconda3/lib/python3.8/site-packages (1.6.2)\n",
      "Requirement already satisfied: numpy in /Users/adityakakarla/opt/anaconda3/lib/python3.8/site-packages (from xgboost) (1.19.2)\n",
      "Requirement already satisfied: scipy in /Users/adityakakarla/opt/anaconda3/lib/python3.8/site-packages (from xgboost) (1.5.2)\n",
      "Note: you may need to restart the kernel to use updated packages.\n"
     ]
    }
   ],
   "source": [
    "%pip install xgboost\n",
    "\n",
    "import pandas as pd\n",
    "import numpy as np\n",
    "import matplotlib.pyplot as plt\n",
    "from sklearn.preprocessing import MinMaxScaler\n",
    "from sklearn.impute import SimpleImputer\n",
    "from sklearn.linear_model import LogisticRegression\n",
    "from sklearn.tree import DecisionTreeClassifier\n",
    "import xgboost as xgb\n",
    "from sklearn.model_selection import train_test_split, StratifiedShuffleSplit\n",
    "from sklearn.metrics import accuracy_score, plot_confusion_matrix, classification_report\n",
    "\n",
    "\n",
    "%matplotlib inline"
   ]
  },
  {
   "cell_type": "markdown",
   "metadata": {},
   "source": [
    "### EDA and Cleaning the Data"
   ]
  },
  {
   "cell_type": "code",
   "execution_count": 140,
   "metadata": {},
   "outputs": [
    {
     "data": {
      "text/html": [
       "<div>\n",
       "<style scoped>\n",
       "    .dataframe tbody tr th:only-of-type {\n",
       "        vertical-align: middle;\n",
       "    }\n",
       "\n",
       "    .dataframe tbody tr th {\n",
       "        vertical-align: top;\n",
       "    }\n",
       "\n",
       "    .dataframe thead th {\n",
       "        text-align: right;\n",
       "    }\n",
       "</style>\n",
       "<table border=\"1\" class=\"dataframe\">\n",
       "  <thead>\n",
       "    <tr style=\"text-align: right;\">\n",
       "      <th></th>\n",
       "      <th>date_received</th>\n",
       "      <th>product</th>\n",
       "      <th>sub_product</th>\n",
       "      <th>issue</th>\n",
       "      <th>sub_issue</th>\n",
       "      <th>consumer_complaint_narrative</th>\n",
       "      <th>company_public_response</th>\n",
       "      <th>company</th>\n",
       "      <th>state</th>\n",
       "      <th>zipcode</th>\n",
       "      <th>tags</th>\n",
       "      <th>consumer_consent_provided</th>\n",
       "      <th>submitted_via</th>\n",
       "      <th>date_sent_to_company</th>\n",
       "      <th>company_response_to_consumer</th>\n",
       "      <th>timely_response</th>\n",
       "      <th>consumer_disputed?</th>\n",
       "      <th>complaint_id</th>\n",
       "    </tr>\n",
       "  </thead>\n",
       "  <tbody>\n",
       "    <tr>\n",
       "      <th>0</th>\n",
       "      <td>2013-08-30</td>\n",
       "      <td>Mortgage</td>\n",
       "      <td>Other mortgage</td>\n",
       "      <td>Loan modification,collection,foreclosure</td>\n",
       "      <td>NaN</td>\n",
       "      <td>NaN</td>\n",
       "      <td>NaN</td>\n",
       "      <td>U.S. Bancorp</td>\n",
       "      <td>CA</td>\n",
       "      <td>95993</td>\n",
       "      <td>NaN</td>\n",
       "      <td>NaN</td>\n",
       "      <td>Referral</td>\n",
       "      <td>2013-09-03</td>\n",
       "      <td>Closed with explanation</td>\n",
       "      <td>Yes</td>\n",
       "      <td>Yes</td>\n",
       "      <td>511074</td>\n",
       "    </tr>\n",
       "    <tr>\n",
       "      <th>1</th>\n",
       "      <td>2013-08-30</td>\n",
       "      <td>Mortgage</td>\n",
       "      <td>Other mortgage</td>\n",
       "      <td>Loan servicing, payments, escrow account</td>\n",
       "      <td>NaN</td>\n",
       "      <td>NaN</td>\n",
       "      <td>NaN</td>\n",
       "      <td>Wells Fargo &amp; Company</td>\n",
       "      <td>CA</td>\n",
       "      <td>91104</td>\n",
       "      <td>NaN</td>\n",
       "      <td>NaN</td>\n",
       "      <td>Referral</td>\n",
       "      <td>2013-09-03</td>\n",
       "      <td>Closed with explanation</td>\n",
       "      <td>Yes</td>\n",
       "      <td>Yes</td>\n",
       "      <td>511080</td>\n",
       "    </tr>\n",
       "    <tr>\n",
       "      <th>2</th>\n",
       "      <td>2013-08-30</td>\n",
       "      <td>Credit reporting</td>\n",
       "      <td>NaN</td>\n",
       "      <td>Incorrect information on credit report</td>\n",
       "      <td>Account status</td>\n",
       "      <td>NaN</td>\n",
       "      <td>NaN</td>\n",
       "      <td>Wells Fargo &amp; Company</td>\n",
       "      <td>NY</td>\n",
       "      <td>11764</td>\n",
       "      <td>NaN</td>\n",
       "      <td>NaN</td>\n",
       "      <td>Postal mail</td>\n",
       "      <td>2013-09-18</td>\n",
       "      <td>Closed with explanation</td>\n",
       "      <td>Yes</td>\n",
       "      <td>No</td>\n",
       "      <td>510473</td>\n",
       "    </tr>\n",
       "    <tr>\n",
       "      <th>3</th>\n",
       "      <td>2013-08-30</td>\n",
       "      <td>Student loan</td>\n",
       "      <td>Non-federal student loan</td>\n",
       "      <td>Repaying your loan</td>\n",
       "      <td>Repaying your loan</td>\n",
       "      <td>NaN</td>\n",
       "      <td>NaN</td>\n",
       "      <td>Navient Solutions, Inc.</td>\n",
       "      <td>MD</td>\n",
       "      <td>21402</td>\n",
       "      <td>NaN</td>\n",
       "      <td>NaN</td>\n",
       "      <td>Email</td>\n",
       "      <td>2013-08-30</td>\n",
       "      <td>Closed with explanation</td>\n",
       "      <td>Yes</td>\n",
       "      <td>Yes</td>\n",
       "      <td>510326</td>\n",
       "    </tr>\n",
       "    <tr>\n",
       "      <th>4</th>\n",
       "      <td>2013-08-30</td>\n",
       "      <td>Debt collection</td>\n",
       "      <td>Credit card</td>\n",
       "      <td>False statements or representation</td>\n",
       "      <td>Attempted to collect wrong amount</td>\n",
       "      <td>NaN</td>\n",
       "      <td>NaN</td>\n",
       "      <td>Resurgent Capital Services L.P.</td>\n",
       "      <td>GA</td>\n",
       "      <td>30106</td>\n",
       "      <td>NaN</td>\n",
       "      <td>NaN</td>\n",
       "      <td>Web</td>\n",
       "      <td>2013-08-30</td>\n",
       "      <td>Closed with explanation</td>\n",
       "      <td>Yes</td>\n",
       "      <td>Yes</td>\n",
       "      <td>511067</td>\n",
       "    </tr>\n",
       "  </tbody>\n",
       "</table>\n",
       "</div>"
      ],
      "text/plain": [
       "  date_received           product               sub_product  \\\n",
       "0    2013-08-30          Mortgage            Other mortgage   \n",
       "1    2013-08-30          Mortgage            Other mortgage   \n",
       "2    2013-08-30  Credit reporting                       NaN   \n",
       "3    2013-08-30      Student loan  Non-federal student loan   \n",
       "4    2013-08-30   Debt collection               Credit card   \n",
       "\n",
       "                                      issue  \\\n",
       "0  Loan modification,collection,foreclosure   \n",
       "1  Loan servicing, payments, escrow account   \n",
       "2    Incorrect information on credit report   \n",
       "3                        Repaying your loan   \n",
       "4        False statements or representation   \n",
       "\n",
       "                           sub_issue consumer_complaint_narrative  \\\n",
       "0                                NaN                          NaN   \n",
       "1                                NaN                          NaN   \n",
       "2                     Account status                          NaN   \n",
       "3                 Repaying your loan                          NaN   \n",
       "4  Attempted to collect wrong amount                          NaN   \n",
       "\n",
       "  company_public_response                          company state zipcode tags  \\\n",
       "0                     NaN                     U.S. Bancorp    CA   95993  NaN   \n",
       "1                     NaN            Wells Fargo & Company    CA   91104  NaN   \n",
       "2                     NaN            Wells Fargo & Company    NY   11764  NaN   \n",
       "3                     NaN          Navient Solutions, Inc.    MD   21402  NaN   \n",
       "4                     NaN  Resurgent Capital Services L.P.    GA   30106  NaN   \n",
       "\n",
       "  consumer_consent_provided submitted_via date_sent_to_company  \\\n",
       "0                       NaN      Referral           2013-09-03   \n",
       "1                       NaN      Referral           2013-09-03   \n",
       "2                       NaN   Postal mail           2013-09-18   \n",
       "3                       NaN         Email           2013-08-30   \n",
       "4                       NaN           Web           2013-08-30   \n",
       "\n",
       "  company_response_to_consumer timely_response consumer_disputed?  \\\n",
       "0      Closed with explanation             Yes                Yes   \n",
       "1      Closed with explanation             Yes                Yes   \n",
       "2      Closed with explanation             Yes                 No   \n",
       "3      Closed with explanation             Yes                Yes   \n",
       "4      Closed with explanation             Yes                Yes   \n",
       "\n",
       "   complaint_id  \n",
       "0        511074  \n",
       "1        511080  \n",
       "2        510473  \n",
       "3        510326  \n",
       "4        511067  "
      ]
     },
     "execution_count": 140,
     "metadata": {},
     "output_type": "execute_result"
    }
   ],
   "source": [
    "df = pd.read_csv('consumer_complaints.csv', parse_dates=['date_received', 'date_sent_to_company'], low_memory=False)\n",
    "df.head()"
   ]
  },
  {
   "cell_type": "code",
   "execution_count": 141,
   "metadata": {},
   "outputs": [
    {
     "data": {
      "text/plain": [
       "date_received                        0\n",
       "product                              0\n",
       "sub_product                     158322\n",
       "issue                                0\n",
       "sub_issue                       343335\n",
       "consumer_complaint_narrative    489151\n",
       "company_public_response         470833\n",
       "company                              0\n",
       "state                             4887\n",
       "zipcode                           4505\n",
       "tags                            477998\n",
       "consumer_consent_provided       432499\n",
       "submitted_via                        0\n",
       "date_sent_to_company                 0\n",
       "company_response_to_consumer         0\n",
       "timely_response                      0\n",
       "consumer_disputed?                   0\n",
       "complaint_id                         0\n",
       "dtype: int64"
      ]
     },
     "execution_count": 141,
     "metadata": {},
     "output_type": "execute_result"
    }
   ],
   "source": [
    "df.isna().sum()"
   ]
  },
  {
   "cell_type": "markdown",
   "metadata": {},
   "source": [
    "To obtain high accuary and effecincy in while visualzing dataset it is important to have a clean dataset. Thus doing things like checking the number of empty rows is in an important part of that process\n",
    "\n"
   ]
  },
  {
   "cell_type": "code",
   "execution_count": 142,
   "metadata": {},
   "outputs": [
    {
     "name": "stdout",
     "output_type": "stream",
     "text": [
      "Total number of disputed customers:  112134\n",
      "Total number of undisputed customers:  443823\n"
     ]
    }
   ],
   "source": [
    "disputed = df.loc[df[\"consumer_disputed?\"].isin([\"Yes\"])]\n",
    "print(\"Total number of disputed customers: \", disputed.shape[0])\n",
    "not_disputed = df.loc[df[\"consumer_disputed?\"].isin([\"No\"])]\n",
    "print(\"Total number of undisputed customers: \", not_disputed.shape[0])"
   ]
  },
  {
   "cell_type": "markdown",
   "metadata": {},
   "source": [
    "Due to the fact that there are may NAN values in the data, in order to clean the data and make it more suitable for analysis and visualization by redcuing the inaacuracies, I will remove all collums that contain  >= 10% NaNs. "
   ]
  },
  {
   "cell_type": "code",
   "execution_count": 143,
   "metadata": {},
   "outputs": [
    {
     "data": {
      "text/plain": [
       "sub_product                     0.284774\n",
       "sub_issue                       0.617557\n",
       "consumer_complaint_narrative    0.879836\n",
       "company_public_response         0.846887\n",
       "tags                            0.859775\n",
       "consumer_consent_provided       0.777936\n",
       "dtype: float64"
      ]
     },
     "execution_count": 143,
     "metadata": {},
     "output_type": "execute_result"
    }
   ],
   "source": [
    "thresh = 0.10\n",
    "col_nans = df.isna().mean(axis=0)\n",
    "col_w_thresh = col_nans[col_nans >= thresh]\n",
    "col_w_thresh"
   ]
  },
  {
   "cell_type": "code",
   "execution_count": 144,
   "metadata": {},
   "outputs": [
    {
     "data": {
      "text/html": [
       "<div>\n",
       "<style scoped>\n",
       "    .dataframe tbody tr th:only-of-type {\n",
       "        vertical-align: middle;\n",
       "    }\n",
       "\n",
       "    .dataframe tbody tr th {\n",
       "        vertical-align: top;\n",
       "    }\n",
       "\n",
       "    .dataframe thead th {\n",
       "        text-align: right;\n",
       "    }\n",
       "</style>\n",
       "<table border=\"1\" class=\"dataframe\">\n",
       "  <thead>\n",
       "    <tr style=\"text-align: right;\">\n",
       "      <th></th>\n",
       "      <th>date_received</th>\n",
       "      <th>product</th>\n",
       "      <th>issue</th>\n",
       "      <th>company</th>\n",
       "      <th>state</th>\n",
       "      <th>zipcode</th>\n",
       "      <th>submitted_via</th>\n",
       "      <th>date_sent_to_company</th>\n",
       "      <th>company_response_to_consumer</th>\n",
       "      <th>timely_response</th>\n",
       "      <th>consumer_disputed?</th>\n",
       "    </tr>\n",
       "  </thead>\n",
       "  <tbody>\n",
       "    <tr>\n",
       "      <th>0</th>\n",
       "      <td>2013-08-30</td>\n",
       "      <td>Mortgage</td>\n",
       "      <td>Loan modification,collection,foreclosure</td>\n",
       "      <td>U.S. Bancorp</td>\n",
       "      <td>CA</td>\n",
       "      <td>95993</td>\n",
       "      <td>Referral</td>\n",
       "      <td>2013-09-03</td>\n",
       "      <td>1</td>\n",
       "      <td>1</td>\n",
       "      <td>1</td>\n",
       "    </tr>\n",
       "    <tr>\n",
       "      <th>1</th>\n",
       "      <td>2013-08-30</td>\n",
       "      <td>Mortgage</td>\n",
       "      <td>Loan servicing, payments, escrow account</td>\n",
       "      <td>Wells Fargo &amp; Company</td>\n",
       "      <td>CA</td>\n",
       "      <td>91104</td>\n",
       "      <td>Referral</td>\n",
       "      <td>2013-09-03</td>\n",
       "      <td>1</td>\n",
       "      <td>1</td>\n",
       "      <td>1</td>\n",
       "    </tr>\n",
       "    <tr>\n",
       "      <th>2</th>\n",
       "      <td>2013-08-30</td>\n",
       "      <td>Credit reporting</td>\n",
       "      <td>Incorrect information on credit report</td>\n",
       "      <td>Wells Fargo &amp; Company</td>\n",
       "      <td>NY</td>\n",
       "      <td>11764</td>\n",
       "      <td>Postal mail</td>\n",
       "      <td>2013-09-18</td>\n",
       "      <td>1</td>\n",
       "      <td>1</td>\n",
       "      <td>0</td>\n",
       "    </tr>\n",
       "    <tr>\n",
       "      <th>3</th>\n",
       "      <td>2013-08-30</td>\n",
       "      <td>Student loan</td>\n",
       "      <td>Repaying your loan</td>\n",
       "      <td>Navient Solutions, Inc.</td>\n",
       "      <td>MD</td>\n",
       "      <td>21402</td>\n",
       "      <td>Email</td>\n",
       "      <td>2013-08-30</td>\n",
       "      <td>1</td>\n",
       "      <td>1</td>\n",
       "      <td>1</td>\n",
       "    </tr>\n",
       "    <tr>\n",
       "      <th>4</th>\n",
       "      <td>2013-08-30</td>\n",
       "      <td>Debt collection</td>\n",
       "      <td>False statements or representation</td>\n",
       "      <td>Resurgent Capital Services L.P.</td>\n",
       "      <td>GA</td>\n",
       "      <td>30106</td>\n",
       "      <td>Web</td>\n",
       "      <td>2013-08-30</td>\n",
       "      <td>1</td>\n",
       "      <td>1</td>\n",
       "      <td>1</td>\n",
       "    </tr>\n",
       "  </tbody>\n",
       "</table>\n",
       "</div>"
      ],
      "text/plain": [
       "  date_received           product                                     issue  \\\n",
       "0    2013-08-30          Mortgage  Loan modification,collection,foreclosure   \n",
       "1    2013-08-30          Mortgage  Loan servicing, payments, escrow account   \n",
       "2    2013-08-30  Credit reporting    Incorrect information on credit report   \n",
       "3    2013-08-30      Student loan                        Repaying your loan   \n",
       "4    2013-08-30   Debt collection        False statements or representation   \n",
       "\n",
       "                           company state zipcode submitted_via  \\\n",
       "0                     U.S. Bancorp    CA   95993      Referral   \n",
       "1            Wells Fargo & Company    CA   91104      Referral   \n",
       "2            Wells Fargo & Company    NY   11764   Postal mail   \n",
       "3          Navient Solutions, Inc.    MD   21402         Email   \n",
       "4  Resurgent Capital Services L.P.    GA   30106           Web   \n",
       "\n",
       "  date_sent_to_company company_response_to_consumer  timely_response  \\\n",
       "0           2013-09-03                            1                1   \n",
       "1           2013-09-03                            1                1   \n",
       "2           2013-09-18                            1                1   \n",
       "3           2013-08-30                            1                1   \n",
       "4           2013-08-30                            1                1   \n",
       "\n",
       "   consumer_disputed?  \n",
       "0                   1  \n",
       "1                   1  \n",
       "2                   0  \n",
       "3                   1  \n",
       "4                   1  "
      ]
     },
     "execution_count": 144,
     "metadata": {},
     "output_type": "execute_result"
    }
   ],
   "source": [
    "drops_l = list(col_w_thresh.index) + ['complaint_id']\n",
    "df = df.drop(drops_l, axis=1)\n",
    "\n",
    "#Tokenizing Yes and No to 1 and 0 respectively\n",
    "df = df.replace(['Yes', 'No'], [1, 0])\n",
    "\n",
    "#Also tokenizing company response for easier NLP classification\n",
    "df.loc[df['company_response_to_consumer'].str.contains(\"Closed\"), 'company_response_to_consumer'] = 1\n",
    "df.loc[df['company_response_to_consumer'] != 1, 'company_response_to_consumer'] = 0\n",
    "df.head()"
   ]
  },
  {
   "cell_type": "markdown",
   "metadata": {},
   "source": [
    "### Analysis and Visualization of the Data"
   ]
  },
  {
   "cell_type": "code",
   "execution_count": 145,
   "metadata": {},
   "outputs": [
    {
     "name": "stdout",
     "output_type": "stream",
     "text": [
      "State is CA with max disputes: 17615\n"
     ]
    }
   ],
   "source": [
    "disputes = get_count('state')\n",
    "st_c = disputes['consumer_disputed?']\n",
    "m_st = disputes['state'][pd.Series.argmax(st_c)]\n",
    "m_c = disputes['consumer_disputed?'][pd.Series.argmax(st_c)]\n",
    "print(\"State is\", m_st, \"with max disputes:\", m_c)"
   ]
  },
  {
   "cell_type": "markdown",
   "metadata": {},
   "source": [
    "#### Number of disputed issues per state"
   ]
  },
  {
   "cell_type": "code",
   "execution_count": 146,
   "metadata": {},
   "outputs": [
    {
     "data": {
      "text/html": [
       "<div>\n",
       "<style scoped>\n",
       "    .dataframe tbody tr th:only-of-type {\n",
       "        vertical-align: middle;\n",
       "    }\n",
       "\n",
       "    .dataframe tbody tr th {\n",
       "        vertical-align: top;\n",
       "    }\n",
       "\n",
       "    .dataframe thead th {\n",
       "        text-align: right;\n",
       "    }\n",
       "</style>\n",
       "<table border=\"1\" class=\"dataframe\">\n",
       "  <thead>\n",
       "    <tr style=\"text-align: right;\">\n",
       "      <th></th>\n",
       "      <th>state</th>\n",
       "      <th>issue</th>\n",
       "    </tr>\n",
       "  </thead>\n",
       "  <tbody>\n",
       "    <tr>\n",
       "      <th>8</th>\n",
       "      <td>CA</td>\n",
       "      <td>81700</td>\n",
       "    </tr>\n",
       "    <tr>\n",
       "      <th>13</th>\n",
       "      <td>FL</td>\n",
       "      <td>53673</td>\n",
       "    </tr>\n",
       "    <tr>\n",
       "      <th>53</th>\n",
       "      <td>TX</td>\n",
       "      <td>41352</td>\n",
       "    </tr>\n",
       "    <tr>\n",
       "      <th>42</th>\n",
       "      <td>NY</td>\n",
       "      <td>38266</td>\n",
       "    </tr>\n",
       "    <tr>\n",
       "      <th>15</th>\n",
       "      <td>GA</td>\n",
       "      <td>24548</td>\n",
       "    </tr>\n",
       "  </tbody>\n",
       "</table>\n",
       "</div>"
      ],
      "text/plain": [
       "   state  issue\n",
       "8     CA  81700\n",
       "13    FL  53673\n",
       "53    TX  41352\n",
       "42    NY  38266\n",
       "15    GA  24548"
      ]
     },
     "execution_count": 146,
     "metadata": {},
     "output_type": "execute_result"
    }
   ],
   "source": [
    "issue_by_state = df.groupby(\"state\")[\"issue\"].agg('count').reset_index()\n",
    "issue_total_state = issue_by_state.sort_values(by=['issue'], ascending=False)\n",
    "issue_total_state.nlargest(5, 'issue')"
   ]
  },
  {
   "cell_type": "code",
   "execution_count": 147,
   "metadata": {},
   "outputs": [
    {
     "data": {
      "image/png": "[encoded data removed]",
      "text/plain": [
       "<Figure size 1440x720 with 1 Axes>"
      ]
     },
     "metadata": {
      "needs_background": "light"
     },
     "output_type": "display_data"
    }
   ],
   "source": [
    "x = issue_total_state['state']\n",
    "y = issue_total_state['issue']\n",
    "plt.bar(x, y)\n",
    "plt.xlabel(\"State\", fontsize=18)\n",
    "plt.ylabel(\"Number of Issues\", fontsize=18)\n",
    "plt.title(\"Number of issues per State\", fontsize=18)\n",
    "plt.gcf().set_size_inches(20, 10)"
   ]
  },
  {
   "cell_type": "markdown",
   "metadata": {},
   "source": [
    "#### Number of products issues per state"
   ]
  },
  {
   "cell_type": "code",
   "execution_count": 156,
   "metadata": {},
   "outputs": [
    {
     "data": {
      "text/html": [
       "<div>\n",
       "<style scoped>\n",
       "    .dataframe tbody tr th:only-of-type {\n",
       "        vertical-align: middle;\n",
       "    }\n",
       "\n",
       "    .dataframe tbody tr th {\n",
       "        vertical-align: top;\n",
       "    }\n",
       "\n",
       "    .dataframe thead th {\n",
       "        text-align: right;\n",
       "    }\n",
       "</style>\n",
       "<table border=\"1\" class=\"dataframe\">\n",
       "  <thead>\n",
       "    <tr style=\"text-align: right;\">\n",
       "      <th></th>\n",
       "      <th>product</th>\n",
       "      <th>issue</th>\n",
       "    </tr>\n",
       "  </thead>\n",
       "  <tbody>\n",
       "    <tr>\n",
       "      <th>6</th>\n",
       "      <td>Mortgage</td>\n",
       "      <td>186475</td>\n",
       "    </tr>\n",
       "    <tr>\n",
       "      <th>4</th>\n",
       "      <td>Debt collection</td>\n",
       "      <td>101052</td>\n",
       "    </tr>\n",
       "    <tr>\n",
       "      <th>3</th>\n",
       "      <td>Credit reporting</td>\n",
       "      <td>91854</td>\n",
       "    </tr>\n",
       "    <tr>\n",
       "      <th>2</th>\n",
       "      <td>Credit card</td>\n",
       "      <td>66468</td>\n",
       "    </tr>\n",
       "    <tr>\n",
       "      <th>0</th>\n",
       "      <td>Bank account or service</td>\n",
       "      <td>62563</td>\n",
       "    </tr>\n",
       "  </tbody>\n",
       "</table>\n",
       "</div>"
      ],
      "text/plain": [
       "                   product   issue\n",
       "6                 Mortgage  186475\n",
       "4          Debt collection  101052\n",
       "3         Credit reporting   91854\n",
       "2              Credit card   66468\n",
       "0  Bank account or service   62563"
      ]
     },
     "execution_count": 156,
     "metadata": {},
     "output_type": "execute_result"
    }
   ],
   "source": [
    "issue_by_product = df.groupby(\"product\")[\"issue\"].agg('count').reset_index()\n",
    "issue_total_product = issue_by_product.sort_values(by=['issue'], ascending=False)\n",
    "issue_total_product.nlargest(5, 'issue')"
   ]
  },
  {
   "cell_type": "code",
   "execution_count": 159,
   "metadata": {},
   "outputs": [
    {
     "data": {
      "image/png": "[encoded data removed]",
      "text/plain": [
       "<Figure size 1440x1080 with 1 Axes>"
      ]
     },
     "metadata": {
      "needs_background": "light"
     },
     "output_type": "display_data"
    }
   ],
   "source": [
    "x = issue_total_product['product']\n",
    "y = issue_total_product['issue']\n",
    "plt.bar(x, y)\n",
    "plt.xlabel(\"Product\", fontsize=18)\n",
    "plt.ylabel(\"Number of Issues\", fontsize=18)\n",
    "plt.title(\"Number of issues per Product\", fontsize=18)\n",
    "plt.gcf().set_size_inches(20, 15)"
   ]
  },
  {
   "cell_type": "code",
   "execution_count": 117,
   "metadata": {},
   "outputs": [],
   "source": [
    "state_issue_count = df[['state', 'product', 'issue']].groupby(['state', 'product', 'issue']).size().reset_index()\n",
    "state_issue_count.columns = ['state', 'product', 'issue', 'count']"
   ]
  },
  {
   "cell_type": "code",
   "execution_count": 118,
   "metadata": {},
   "outputs": [
    {
     "data": {
      "text/html": [
       "<div>\n",
       "<style scoped>\n",
       "    .dataframe tbody tr th:only-of-type {\n",
       "        vertical-align: middle;\n",
       "    }\n",
       "\n",
       "    .dataframe tbody tr th {\n",
       "        vertical-align: top;\n",
       "    }\n",
       "\n",
       "    .dataframe thead th {\n",
       "        text-align: right;\n",
       "    }\n",
       "</style>\n",
       "<table border=\"1\" class=\"dataframe\">\n",
       "  <thead>\n",
       "    <tr style=\"text-align: right;\">\n",
       "      <th></th>\n",
       "      <th>state</th>\n",
       "      <th>product</th>\n",
       "      <th>issue</th>\n",
       "      <th>count</th>\n",
       "    </tr>\n",
       "  </thead>\n",
       "  <tbody>\n",
       "    <tr>\n",
       "      <th>501</th>\n",
       "      <td>CA</td>\n",
       "      <td>Mortgage</td>\n",
       "      <td>Loan modification,collection,foreclosure</td>\n",
       "      <td>19433</td>\n",
       "    </tr>\n",
       "    <tr>\n",
       "      <th>942</th>\n",
       "      <td>FL</td>\n",
       "      <td>Mortgage</td>\n",
       "      <td>Loan modification,collection,foreclosure</td>\n",
       "      <td>11337</td>\n",
       "    </tr>\n",
       "    <tr>\n",
       "      <th>502</th>\n",
       "      <td>CA</td>\n",
       "      <td>Mortgage</td>\n",
       "      <td>Loan servicing, payments, escrow account</td>\n",
       "      <td>8957</td>\n",
       "    </tr>\n",
       "    <tr>\n",
       "      <th>4028</th>\n",
       "      <td>TX</td>\n",
       "      <td>Credit reporting</td>\n",
       "      <td>Incorrect information on credit report</td>\n",
       "      <td>8712</td>\n",
       "    </tr>\n",
       "    <tr>\n",
       "      <th>485</th>\n",
       "      <td>CA</td>\n",
       "      <td>Credit reporting</td>\n",
       "      <td>Incorrect information on credit report</td>\n",
       "      <td>8585</td>\n",
       "    </tr>\n",
       "  </tbody>\n",
       "</table>\n",
       "</div>"
      ],
      "text/plain": [
       "     state           product                                     issue  count\n",
       "501     CA          Mortgage  Loan modification,collection,foreclosure  19433\n",
       "942     FL          Mortgage  Loan modification,collection,foreclosure  11337\n",
       "502     CA          Mortgage  Loan servicing, payments, escrow account   8957\n",
       "4028    TX  Credit reporting    Incorrect information on credit report   8712\n",
       "485     CA  Credit reporting    Incorrect information on credit report   8585"
      ]
     },
     "execution_count": 118,
     "metadata": {},
     "output_type": "execute_result"
    }
   ],
   "source": [
    "state_issue_count.sort_values(by = 'count', ascending = False).head()\n"
   ]
  },
  {
   "cell_type": "code",
   "execution_count": 119,
   "metadata": {},
   "outputs": [],
   "source": [
    "disp_prod = get_count('product')\n"
   ]
  },
  {
   "cell_type": "code",
   "execution_count": 120,
   "metadata": {},
   "outputs": [
    {
     "data": {
      "text/html": [
       "<div>\n",
       "<style scoped>\n",
       "    .dataframe tbody tr th:only-of-type {\n",
       "        vertical-align: middle;\n",
       "    }\n",
       "\n",
       "    .dataframe tbody tr th {\n",
       "        vertical-align: top;\n",
       "    }\n",
       "\n",
       "    .dataframe thead th {\n",
       "        text-align: right;\n",
       "    }\n",
       "</style>\n",
       "<table border=\"1\" class=\"dataframe\">\n",
       "  <thead>\n",
       "    <tr style=\"text-align: right;\">\n",
       "      <th></th>\n",
       "      <th>product</th>\n",
       "      <th>issue</th>\n",
       "      <th>count</th>\n",
       "    </tr>\n",
       "  </thead>\n",
       "  <tbody>\n",
       "    <tr>\n",
       "      <th>75</th>\n",
       "      <td>Mortgage</td>\n",
       "      <td>Loan modification,collection,foreclosure</td>\n",
       "      <td>97191</td>\n",
       "    </tr>\n",
       "    <tr>\n",
       "      <th>59</th>\n",
       "      <td>Credit reporting</td>\n",
       "      <td>Incorrect information on credit report</td>\n",
       "      <td>66718</td>\n",
       "    </tr>\n",
       "    <tr>\n",
       "      <th>76</th>\n",
       "      <td>Mortgage</td>\n",
       "      <td>Loan servicing, payments, escrow account</td>\n",
       "      <td>60375</td>\n",
       "    </tr>\n",
       "    <tr>\n",
       "      <th>62</th>\n",
       "      <td>Debt collection</td>\n",
       "      <td>Cont'd attempts collect debt not owed</td>\n",
       "      <td>42285</td>\n",
       "    </tr>\n",
       "    <tr>\n",
       "      <th>0</th>\n",
       "      <td>Bank account or service</td>\n",
       "      <td>Account opening, closing, or management</td>\n",
       "      <td>26661</td>\n",
       "    </tr>\n",
       "  </tbody>\n",
       "</table>\n",
       "</div>"
      ],
      "text/plain": [
       "                    product                                     issue  count\n",
       "75                 Mortgage  Loan modification,collection,foreclosure  97191\n",
       "59         Credit reporting    Incorrect information on credit report  66718\n",
       "76                 Mortgage  Loan servicing, payments, escrow account  60375\n",
       "62          Debt collection     Cont'd attempts collect debt not owed  42285\n",
       "0   Bank account or service   Account opening, closing, or management  26661"
      ]
     },
     "execution_count": 120,
     "metadata": {},
     "output_type": "execute_result"
    }
   ],
   "source": [
    "product_issue_count = df.groupby(['product', 'issue']).size().reset_index()\n",
    "product_issue_count.columns = ['product', 'issue', 'count']\n",
    "product_issue_count.sort_values(by = 'count', ascending=False).head()\n"
   ]
  },
  {
   "cell_type": "code",
   "execution_count": 121,
   "metadata": {},
   "outputs": [
    {
     "data": {
      "text/plain": [
       "Text(0, 0.5, 'Product')"
      ]
     },
     "execution_count": 121,
     "metadata": {},
     "output_type": "execute_result"
    },
    {
     "data": {
      "image/png": "[encoded data removed]",
      "text/plain": [
       "<Figure size 1152x648 with 1 Axes>"
      ]
     },
     "metadata": {
      "needs_background": "light"
     },
     "output_type": "display_data"
    }
   ],
   "source": [
    "fig3, ax3 = plt.subplots(figsize=(16, 9))\n",
    "ax3.barh(disp_prod['product'], disp_prod['consumer_disputed?'])    \n",
    "\n",
    "ax3.set_title(\"Disputed issue counts per product\")\n",
    "ax3.set_xlabel('Disputed issue counts')\n",
    "ax3.set_ylabel('Product')"
   ]
  },
  {
   "cell_type": "code",
   "execution_count": 122,
   "metadata": {},
   "outputs": [
    {
     "data": {
      "text/plain": [
       "Text(0.5, 0, 'Disputed issue rate')"
      ]
     },
     "execution_count": 122,
     "metadata": {},
     "output_type": "execute_result"
    },
    {
     "data": {
      "image/png": "[encoded data removed]",
      "text/plain": [
       "<Figure size 1152x648 with 1 Axes>"
      ]
     },
     "metadata": {
      "needs_background": "light"
     },
     "output_type": "display_data"
    }
   ],
   "source": [
    "fig4, ax4 = plt.subplots(figsize=(16, 9))\n",
    "ax4.barh(disp_prod['product'], disp_prod['dispute_rate'])    \n",
    "\n",
    "ax4.set_title(\"Disputed issue rates per product\")\n",
    "ax4.set_ylabel('Product')\n",
    "ax4.set_xlabel('Disputed issue rate')"
   ]
  },
  {
   "cell_type": "code",
   "execution_count": 123,
   "metadata": {},
   "outputs": [],
   "source": [
    "disp_med = get_count('submitted_via')\n"
   ]
  },
  {
   "cell_type": "code",
   "execution_count": 124,
   "metadata": {},
   "outputs": [
    {
     "data": {
      "text/plain": [
       "Text(0.5, 0, 'Disputed issue count')"
      ]
     },
     "execution_count": 124,
     "metadata": {},
     "output_type": "execute_result"
    },
    {
     "data": {
      "image/png": "[encoded data removed]",
      "text/plain": [
       "<Figure size 1152x648 with 1 Axes>"
      ]
     },
     "metadata": {
      "needs_background": "light"
     },
     "output_type": "display_data"
    }
   ],
   "source": [
    "fig5, ax5 = plt.subplots(figsize=(16, 9))\n",
    "ax5.bar(disp_med['submitted_via'], disp_med['consumer_disputed?'])\n",
    "\n",
    "ax5.set_title(\"Disputed issue counts per submission medium\")\n",
    "ax5.set_xlabel('Medium')\n",
    "ax5.set_xlabel('Disputed issue count')"
   ]
  },
  {
   "cell_type": "code",
   "execution_count": 125,
   "metadata": {},
   "outputs": [
    {
     "data": {
      "text/plain": [
       "Text(0, 0.5, 'Disputed issue rate')"
      ]
     },
     "execution_count": 125,
     "metadata": {},
     "output_type": "execute_result"
    },
    {
     "data": {
      "image/png": "[encoded data removed]",
      "text/plain": [
       "<Figure size 1152x648 with 1 Axes>"
      ]
     },
     "metadata": {
      "needs_background": "light"
     },
     "output_type": "display_data"
    }
   ],
   "source": [
    "fig6, ax6 = plt.subplots(figsize=(16, 9))\n",
    "ax6.bar(disp_med['submitted_via'], disp_med['dispute_rate'])\n",
    "\n",
    "ax6.set_title(\"Disputed issue rates per submission medium\")\n",
    "ax6.set_xlabel('Medium')\n",
    "ax6.set_ylabel('Disputed issue rate')"
   ]
  },
  {
   "cell_type": "code",
   "execution_count": 126,
   "metadata": {},
   "outputs": [],
   "source": [
    "df_by_med = df[['submitted_via', 'timely_response']].groupby(['submitted_via', 'timely_response']).size().reset_index()\n",
    "df_by_med = df_by_med[df_by_med['timely_response'] == 1]\n",
    "df_by_med.columns = ['submitted_via', 'was timely_response', 'count']"
   ]
  },
  {
   "cell_type": "code",
   "execution_count": 127,
   "metadata": {},
   "outputs": [
    {
     "data": {
      "text/plain": [
       "Text(0, 0.5, 'Timely response count')"
      ]
     },
     "execution_count": 127,
     "metadata": {},
     "output_type": "execute_result"
    },
    {
     "data": {
      "image/png": "[encoded data removed]",
      "text/plain": [
       "<Figure size 1152x648 with 1 Axes>"
      ]
     },
     "metadata": {
      "needs_background": "light"
     },
     "output_type": "display_data"
    }
   ],
   "source": [
    "fig7, ax7 = plt.subplots(figsize=(16, 9))\n",
    "ax7.bar(df_by_med['submitted_via'], df_by_med['count'])\n",
    "\n",
    "ax7.set_title(\"Number of timely responses per submission medium\")\n",
    "ax7.set_xlabel('Medium')\n",
    "ax7.set_ylabel('Timely response count')"
   ]
  },
  {
   "cell_type": "code",
   "execution_count": 148,
   "metadata": {},
   "outputs": [
    {
     "data": {
      "text/html": [
       "<div>\n",
       "<style scoped>\n",
       "    .dataframe tbody tr th:only-of-type {\n",
       "        vertical-align: middle;\n",
       "    }\n",
       "\n",
       "    .dataframe tbody tr th {\n",
       "        vertical-align: top;\n",
       "    }\n",
       "\n",
       "    .dataframe thead th {\n",
       "        text-align: right;\n",
       "    }\n",
       "</style>\n",
       "<table border=\"1\" class=\"dataframe\">\n",
       "  <thead>\n",
       "    <tr style=\"text-align: right;\">\n",
       "      <th></th>\n",
       "      <th>date_received</th>\n",
       "      <th>company</th>\n",
       "      <th>zipcode</th>\n",
       "      <th>date_sent_to_company</th>\n",
       "      <th>company_response_to_consumer</th>\n",
       "      <th>timely_response</th>\n",
       "      <th>consumer_disputed?</th>\n",
       "      <th>product_Bank account or service</th>\n",
       "      <th>product_Consumer Loan</th>\n",
       "      <th>product_Credit card</th>\n",
       "      <th>...</th>\n",
       "      <th>state_WA</th>\n",
       "      <th>state_WI</th>\n",
       "      <th>state_WV</th>\n",
       "      <th>state_WY</th>\n",
       "      <th>submitted_via_Email</th>\n",
       "      <th>submitted_via_Fax</th>\n",
       "      <th>submitted_via_Phone</th>\n",
       "      <th>submitted_via_Postal mail</th>\n",
       "      <th>submitted_via_Referral</th>\n",
       "      <th>submitted_via_Web</th>\n",
       "    </tr>\n",
       "  </thead>\n",
       "  <tbody>\n",
       "    <tr>\n",
       "      <th>0</th>\n",
       "      <td>735110</td>\n",
       "      <td>U.S. Bancorp</td>\n",
       "      <td>95993</td>\n",
       "      <td>735114</td>\n",
       "      <td>1</td>\n",
       "      <td>1</td>\n",
       "      <td>1</td>\n",
       "      <td>0</td>\n",
       "      <td>0</td>\n",
       "      <td>0</td>\n",
       "      <td>...</td>\n",
       "      <td>0</td>\n",
       "      <td>0</td>\n",
       "      <td>0</td>\n",
       "      <td>0</td>\n",
       "      <td>0</td>\n",
       "      <td>0</td>\n",
       "      <td>0</td>\n",
       "      <td>0</td>\n",
       "      <td>1</td>\n",
       "      <td>0</td>\n",
       "    </tr>\n",
       "    <tr>\n",
       "      <th>1</th>\n",
       "      <td>735110</td>\n",
       "      <td>Wells Fargo &amp; Company</td>\n",
       "      <td>91104</td>\n",
       "      <td>735114</td>\n",
       "      <td>1</td>\n",
       "      <td>1</td>\n",
       "      <td>1</td>\n",
       "      <td>0</td>\n",
       "      <td>0</td>\n",
       "      <td>0</td>\n",
       "      <td>...</td>\n",
       "      <td>0</td>\n",
       "      <td>0</td>\n",
       "      <td>0</td>\n",
       "      <td>0</td>\n",
       "      <td>0</td>\n",
       "      <td>0</td>\n",
       "      <td>0</td>\n",
       "      <td>0</td>\n",
       "      <td>1</td>\n",
       "      <td>0</td>\n",
       "    </tr>\n",
       "    <tr>\n",
       "      <th>2</th>\n",
       "      <td>735110</td>\n",
       "      <td>Wells Fargo &amp; Company</td>\n",
       "      <td>11764</td>\n",
       "      <td>735129</td>\n",
       "      <td>1</td>\n",
       "      <td>1</td>\n",
       "      <td>0</td>\n",
       "      <td>0</td>\n",
       "      <td>0</td>\n",
       "      <td>0</td>\n",
       "      <td>...</td>\n",
       "      <td>0</td>\n",
       "      <td>0</td>\n",
       "      <td>0</td>\n",
       "      <td>0</td>\n",
       "      <td>0</td>\n",
       "      <td>0</td>\n",
       "      <td>0</td>\n",
       "      <td>1</td>\n",
       "      <td>0</td>\n",
       "      <td>0</td>\n",
       "    </tr>\n",
       "    <tr>\n",
       "      <th>3</th>\n",
       "      <td>735110</td>\n",
       "      <td>Navient Solutions, Inc.</td>\n",
       "      <td>21402</td>\n",
       "      <td>735110</td>\n",
       "      <td>1</td>\n",
       "      <td>1</td>\n",
       "      <td>1</td>\n",
       "      <td>0</td>\n",
       "      <td>0</td>\n",
       "      <td>0</td>\n",
       "      <td>...</td>\n",
       "      <td>0</td>\n",
       "      <td>0</td>\n",
       "      <td>0</td>\n",
       "      <td>0</td>\n",
       "      <td>1</td>\n",
       "      <td>0</td>\n",
       "      <td>0</td>\n",
       "      <td>0</td>\n",
       "      <td>0</td>\n",
       "      <td>0</td>\n",
       "    </tr>\n",
       "    <tr>\n",
       "      <th>4</th>\n",
       "      <td>735110</td>\n",
       "      <td>Resurgent Capital Services L.P.</td>\n",
       "      <td>30106</td>\n",
       "      <td>735110</td>\n",
       "      <td>1</td>\n",
       "      <td>1</td>\n",
       "      <td>1</td>\n",
       "      <td>0</td>\n",
       "      <td>0</td>\n",
       "      <td>0</td>\n",
       "      <td>...</td>\n",
       "      <td>0</td>\n",
       "      <td>0</td>\n",
       "      <td>0</td>\n",
       "      <td>0</td>\n",
       "      <td>0</td>\n",
       "      <td>0</td>\n",
       "      <td>0</td>\n",
       "      <td>0</td>\n",
       "      <td>0</td>\n",
       "      <td>1</td>\n",
       "    </tr>\n",
       "  </tbody>\n",
       "</table>\n",
       "<p>5 rows × 181 columns</p>\n",
       "</div>"
      ],
      "text/plain": [
       "   date_received                          company zipcode  \\\n",
       "0         735110                     U.S. Bancorp   95993   \n",
       "1         735110            Wells Fargo & Company   91104   \n",
       "2         735110            Wells Fargo & Company   11764   \n",
       "3         735110          Navient Solutions, Inc.   21402   \n",
       "4         735110  Resurgent Capital Services L.P.   30106   \n",
       "\n",
       "   date_sent_to_company company_response_to_consumer  timely_response  \\\n",
       "0                735114                            1                1   \n",
       "1                735114                            1                1   \n",
       "2                735129                            1                1   \n",
       "3                735110                            1                1   \n",
       "4                735110                            1                1   \n",
       "\n",
       "   consumer_disputed?  product_Bank account or service  product_Consumer Loan  \\\n",
       "0                   1                                0                      0   \n",
       "1                   1                                0                      0   \n",
       "2                   0                                0                      0   \n",
       "3                   1                                0                      0   \n",
       "4                   1                                0                      0   \n",
       "\n",
       "   product_Credit card  ...  state_WA  state_WI  state_WV  state_WY  \\\n",
       "0                    0  ...         0         0         0         0   \n",
       "1                    0  ...         0         0         0         0   \n",
       "2                    0  ...         0         0         0         0   \n",
       "3                    0  ...         0         0         0         0   \n",
       "4                    0  ...         0         0         0         0   \n",
       "\n",
       "   submitted_via_Email  submitted_via_Fax  submitted_via_Phone  \\\n",
       "0                    0                  0                    0   \n",
       "1                    0                  0                    0   \n",
       "2                    0                  0                    0   \n",
       "3                    1                  0                    0   \n",
       "4                    0                  0                    0   \n",
       "\n",
       "   submitted_via_Postal mail  submitted_via_Referral  submitted_via_Web  \n",
       "0                          0                       1                  0  \n",
       "1                          0                       1                  0  \n",
       "2                          1                       0                  0  \n",
       "3                          0                       0                  0  \n",
       "4                          0                       0                  1  \n",
       "\n",
       "[5 rows x 181 columns]"
      ]
     },
     "execution_count": 148,
     "metadata": {},
     "output_type": "execute_result"
    }
   ],
   "source": [
    "date_cols = ['date_received', 'date_sent_to_company']\n",
    "for date_col in date_cols:\n",
    "    df[date_col] = df[date_col].apply(pd.Timestamp.toordinal)\n",
    "\n",
    "analysis_cols = ['product', 'issue', 'state', 'submitted_via']\n",
    "encoded = df\n",
    "for c in analysis_cols:\n",
    "    c_encoded = pd.get_dummies(encoded[c], prefix=c)\n",
    "    encoded = pd.concat((encoded, c_encoded), axis=1).drop(c, axis=1)\n",
    "encoded.head() "
   ]
  },
  {
   "cell_type": "code",
   "execution_count": 149,
   "metadata": {},
   "outputs": [],
   "source": [
    "X = encoded.drop(['company', 'zipcode', 'consumer_disputed?'], axis=1)\n",
    "y = encoded['consumer_disputed?']\n",
    "X_tr, X_t, y_tr, y_t = train_test_split(X, y, test_size=0.2, random_state=0)"
   ]
  },
  {
   "cell_type": "code",
   "execution_count": 150,
   "metadata": {},
   "outputs": [
    {
     "name": "stdout",
     "output_type": "stream",
     "text": [
      "Classifier accuracy is 0.7980160443197353\n"
     ]
    }
   ],
   "source": [
    "classifier1 = LogisticRegression()\n",
    "classifier1.fit(X_tr, y_tr)\n",
    "y_pred = classifier1.predict(X_t)\n",
    "\n",
    "print(\"Classifier accuracy is\", accuracy_score(y_t, y_pred))"
   ]
  },
  {
   "cell_type": "code",
   "execution_count": 151,
   "metadata": {},
   "outputs": [
    {
     "data": {
      "text/plain": [
       "<sklearn.metrics._plot.confusion_matrix.ConfusionMatrixDisplay at 0x7f85c09f9b20>"
      ]
     },
     "execution_count": 151,
     "metadata": {},
     "output_type": "execute_result"
    },
    {
     "data": {
      "image/png": "[encoded data removed]",
      "text/plain": [
       "<Figure size 432x288 with 2 Axes>"
      ]
     },
     "metadata": {
      "needs_background": "light"
     },
     "output_type": "display_data"
    }
   ],
   "source": [
    "plot_confusion_matrix(classifier1, X_t, y_t, cmap=plt.cm.Greens)\n"
   ]
  },
  {
   "cell_type": "code",
   "execution_count": 152,
   "metadata": {},
   "outputs": [
    {
     "name": "stdout",
     "output_type": "stream",
     "text": [
      "Classifier accuracy is 0.7119846751564861\n"
     ]
    }
   ],
   "source": [
    "classifier2 = DecisionTreeClassifier(random_state=42)\n",
    "classifier2.fit(X_tr, y_tr)\n",
    "y_pred = classifier2.predict(X_t)\n",
    "\n",
    "print(\"Classifier accuracy is\", accuracy_score(y_t, y_pred))"
   ]
  },
  {
   "cell_type": "code",
   "execution_count": 153,
   "metadata": {},
   "outputs": [
    {
     "data": {
      "text/plain": [
       "<sklearn.metrics._plot.confusion_matrix.ConfusionMatrixDisplay at 0x7f85c09f9070>"
      ]
     },
     "execution_count": 153,
     "metadata": {},
     "output_type": "execute_result"
    },
    {
     "data": {
      "image/png": "[encoded data removed]",
      "text/plain": [
       "<Figure size 432x288 with 2 Axes>"
      ]
     },
     "metadata": {
      "needs_background": "light"
     },
     "output_type": "display_data"
    }
   ],
   "source": [
    "plot_confusion_matrix(classifier2, X_t, y_t, cmap=plt.cm.Reds)\n"
   ]
  },
  {
   "cell_type": "code",
   "execution_count": 154,
   "metadata": {},
   "outputs": [
    {
     "name": "stdout",
     "output_type": "stream",
     "text": [
      "              precision    recall  f1-score   support\n",
      "\n",
      "           0       0.81      0.84      0.82     88733\n",
      "           1       0.26      0.23      0.24     22459\n",
      "\n",
      "    accuracy                           0.71    111192\n",
      "   macro avg       0.53      0.53      0.53    111192\n",
      "weighted avg       0.70      0.71      0.70    111192\n",
      "\n"
     ]
    }
   ],
   "source": [
    "print(classification_report(y_t, y_pred))\n"
   ]
  },
  {
   "cell_type": "code",
   "execution_count": null,
   "metadata": {},
   "outputs": [],
   "source": []
  },
  {
   "cell_type": "code",
   "execution_count": null,
   "metadata": {},
   "outputs": [],
   "source": []
  }
 ],
 "metadata": {
  "kernelspec": {
   "display_name": "Python 3",
   "language": "python",
   "name": "python3"
  },
  "language_info": {
   "codemirror_mode": {
    "name": "ipython",
    "version": 3
   },
   "file_extension": ".py",
   "mimetype": "text/x-python",
   "name": "python",
   "nbconvert_exporter": "python",
   "pygments_lexer": "ipython3",
   "version": "3.8.5"
  }
 },
 "nbformat": 4,
 "nbformat_minor": 4
}
